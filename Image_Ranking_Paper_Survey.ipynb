{
  "nbformat": 4,
  "nbformat_minor": 0,
  "metadata": {
    "colab": {
      "provenance": [],
      "authorship_tag": "ABX9TyOmMBaQOVvd1HQYs0F9Lmhb",
      "include_colab_link": true
    },
    "kernelspec": {
      "name": "python3",
      "display_name": "Python 3"
    },
    "language_info": {
      "name": "python"
    }
  },
  "cells": [
    {
      "cell_type": "markdown",
      "metadata": {
        "id": "view-in-github",
        "colab_type": "text"
      },
      "source": [
        "<a href=\"https://colab.research.google.com/github/runawaycow/TAP_Project/blob/main/Image_Ranking_Paper_Survey.ipynb\" target=\"_parent\"><img src=\"https://colab.research.google.com/assets/colab-badge.svg\" alt=\"Open In Colab\"/></a>"
      ]
    },
    {
      "cell_type": "markdown",
      "source": [
        "# **ChatGPT4.5 Prompt:**\n",
        "Please write a python code for the following task: I will give you a .csv file, the file. Each row include a matching result among 6 players (randomly selected in the pool of 40-50 player). The .csv include following column 'Rank_1 , Rank_2, .... Rank_6' contains the ID of player ranked in each of the match, where Rank_6 has the player ID of the highest place, and Rank_1 contains the player ID in lowest place. The 'SheetID' collunm contains the match ID of the game played. Please loop through all matches and rank the pool of players accordingly between 0-1 with Trueskill, where weakest player is closer to 0 and stronger is closer to 1.\n",
        "\n",
        "Please also save the ranking result to 'ranking_total.csv', sorted by player ID (stored in a collunm named 'ImageID') , the ranking value of each player is stored in the matching position under collunm 'PreferenceRanking'."
      ],
      "metadata": {
        "id": "RBJws5PobwBD"
      }
    },
    {
      "cell_type": "markdown",
      "source": [
        "# **Ensure you have the TrueSkill library installed:**"
      ],
      "metadata": {
        "id": "LwQ6tgpTbnC7"
      }
    },
    {
      "cell_type": "code",
      "source": [
        "! pip install trueskill"
      ],
      "metadata": {
        "colab": {
          "base_uri": "https://localhost:8080/"
        },
        "id": "cXc_qK3kZ8DO",
        "outputId": "62937421-945e-4a20-cfb7-5f7fa93a5bbb"
      },
      "execution_count": 1,
      "outputs": [
        {
          "output_type": "stream",
          "name": "stdout",
          "text": [
            "Collecting trueskill\n",
            "  Downloading trueskill-0.4.5.tar.gz (21 kB)\n",
            "  Preparing metadata (setup.py) ... \u001b[?25l\u001b[?25hdone\n",
            "Requirement already satisfied: six in /usr/local/lib/python3.11/dist-packages (from trueskill) (1.17.0)\n",
            "Building wheels for collected packages: trueskill\n",
            "  Building wheel for trueskill (setup.py) ... \u001b[?25l\u001b[?25hdone\n",
            "  Created wheel for trueskill: filename=trueskill-0.4.5-py3-none-any.whl size=18049 sha256=190e7e478e8432c83de7106dce55bc40bdb9577c35aaf1e762431c03ff125fef\n",
            "  Stored in directory: /root/.cache/pip/wheels/b1/20/f2/bb1bca2728bad41aa94d5bf7ca2f8148fd00d2c2e3adfe2ea2\n",
            "Successfully built trueskill\n",
            "Installing collected packages: trueskill\n",
            "Successfully installed trueskill-0.4.5\n"
          ]
        }
      ]
    },
    {
      "cell_type": "markdown",
      "source": [
        "# **Instructions to run the code:**\n",
        "\n",
        "1.   Replace 'your_file.csv' with the path to your CSV file.\n",
        "2.   Ensure your CSV file columns are exactly named: SheetID, Rank_1, Rank_2,Rank_3, Rank_4, Rank_5, Rank_6.\n",
        "3.  Run the Python script to get player rankings normalized between 0 (weakest) and 1 (strongest) based on TrueSkill ratings.\n",
        "\n",
        "This will print out the normalized rankings from 0 (weakest) to 1 (strongest) for each player."
      ],
      "metadata": {
        "id": "8ZGMySdEbRvy"
      }
    },
    {
      "cell_type": "code",
      "execution_count": 2,
      "metadata": {
        "colab": {
          "base_uri": "https://localhost:8080/"
        },
        "id": "rp464WpoW-Hf",
        "outputId": "ff1abc30-bc37-4f6a-8ba4-84da2b41c713"
      },
      "outputs": [
        {
          "output_type": "stream",
          "name": "stdout",
          "text": [
            "    ImageID  PreferenceRanking\n",
            "20   750000           0.276698\n",
            "26   750004           0.349627\n",
            "23   750014           0.366037\n",
            "13   750017           0.533217\n",
            "9    750022           0.353694\n",
            "6    750030           0.753174\n",
            "24   750038           0.242669\n",
            "28   750059           0.305777\n",
            "40   750068           0.661161\n",
            "4    750081           0.341018\n",
            "8    750144           0.527524\n",
            "25   750157           0.097653\n",
            "22   750176           0.341545\n",
            "19   750193           0.355800\n",
            "37   750216           0.471737\n",
            "2    750278           0.420116\n",
            "36   750288           0.211576\n",
            "16   750376           0.379491\n",
            "39   750436           0.378380\n",
            "38   750477           0.547880\n",
            "10   890021           0.404766\n",
            "12   890035           0.631716\n",
            "18   890040           0.456785\n",
            "11   890051           0.408800\n",
            "29   890065           0.310126\n",
            "15   890086           0.564889\n",
            "30   890100           1.000000\n",
            "3    890125           0.722160\n",
            "34   890165           0.564943\n",
            "33   890182           0.512743\n",
            "35   890184           0.972720\n",
            "17   890188           0.763290\n",
            "31   890315           0.536951\n",
            "1    890432           0.304062\n",
            "41   890447           0.512473\n",
            "5    890477           0.226965\n",
            "0    890558           0.559798\n",
            "21   890578           0.224054\n",
            "7    890585           0.547277\n",
            "32   890603           0.420270\n",
            "14   890610           0.526910\n",
            "27   890627           0.000000\n"
          ]
        }
      ],
      "source": [
        "import pandas as pd\n",
        "import trueskill\n",
        "\n",
        "# Load CSV file\n",
        "df = pd.read_csv('/content/survey_info_jules_01_clean.csv')\n",
        "\n",
        "# Initialize TrueSkill environment\n",
        "env = trueskill.TrueSkill()\n",
        "ratings = {}\n",
        "\n",
        "# Loop through each match and update TrueSkill ratings\n",
        "for _, row in df.iterrows():\n",
        "    match_results = []\n",
        "    for rank in range(6, 0, -1):  # Start from Rank_6 (highest) to Rank_1 (lowest)\n",
        "        player_id = row[f'Rank_{rank}']\n",
        "        if player_id not in ratings:\n",
        "            ratings[player_id] = env.create_rating()\n",
        "        match_results.append([ratings[player_id]])\n",
        "\n",
        "    updated_ratings = env.rate(match_results)\n",
        "\n",
        "    # Update player ratings after each match\n",
        "    for idx, rank in enumerate(range(6, 0, -1)):\n",
        "        player_id = row[f'Rank_{rank}']\n",
        "        ratings[player_id] = updated_ratings[idx][0]\n",
        "\n",
        "# Calculate normalized skill rating (between 0 and 1)\n",
        "mu_values = {player: rating.mu for player, rating in ratings.items()}\n",
        "min_mu, max_mu = min(mu_values.values()), max(mu_values.values())\n",
        "\n",
        "normalized_scores = {player: (mu - min_mu) / (max_mu - min_mu)\n",
        "                     for player, mu in mu_values.items()}\n",
        "\n",
        "# Convert to DataFrame for clarity\n",
        "ranking_df = pd.DataFrame.from_dict(normalized_scores, orient='index', columns=['PreferenceRanking'])\n",
        "ranking_df.index.name = 'ImageID'\n",
        "ranking_df.reset_index(inplace=True)\n",
        "ranking_df.sort_values(by='ImageID', inplace=True)\n",
        "\n",
        "# Save ranking result to CSV\n",
        "ranking_df.to_csv('ranking_total.csv', index=False)\n",
        "\n",
        "# Output ranking\n",
        "print(ranking_df)\n"
      ]
    },
    {
      "cell_type": "code",
      "source": [],
      "metadata": {
        "id": "xCHQYXkxbC_r"
      },
      "execution_count": null,
      "outputs": []
    }
  ]
}
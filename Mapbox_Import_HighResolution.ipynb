{
  "nbformat": 4,
  "nbformat_minor": 0,
  "metadata": {
    "colab": {
      "provenance": [],
      "authorship_tag": "ABX9TyN+fSfmuwO5+/yVKCqBGnbB",
      "include_colab_link": true
    },
    "kernelspec": {
      "name": "python3",
      "display_name": "Python 3"
    },
    "language_info": {
      "name": "python"
    }
  },
  "cells": [
    {
      "cell_type": "markdown",
      "metadata": {
        "id": "view-in-github",
        "colab_type": "text"
      },
      "source": [
        "<a href=\"https://colab.research.google.com/github/runawaycow/TAP_Project/blob/main/Mapbox_Import_HighResolution.ipynb\" target=\"_parent\"><img src=\"https://colab.research.google.com/assets/colab-badge.svg\" alt=\"Open In Colab\"/></a>"
      ]
    },
    {
      "cell_type": "markdown",
      "source": [
        "Step-by-step solution:\n",
        "\n",
        "1.   Precisely determine the tiles covering your bounding box\n",
        "2.   Retrieve each tile individually.\n",
        "3.  Stitch tiles to produce an accurately aligned final image.\n",
        "4.  Uses Mercantile to ensure precise tile alignment.\n",
        "5.  Accurately computes pixel coordinates using Mapbox’s projection standard.\n",
        "6.  Maintains correct proportions and alignment for exported image.\n"
      ],
      "metadata": {
        "id": "oGJrSOJs-F6J"
      }
    },
    {
      "cell_type": "markdown",
      "source": [
        "# **Python script (fully functional and accurate):**\n",
        "\n",
        "Install dependencies first:"
      ],
      "metadata": {
        "id": "AZElzZra-LiF"
      }
    },
    {
      "cell_type": "code",
      "source": [
        "! pip install requests pillow mercantile"
      ],
      "metadata": {
        "colab": {
          "base_uri": "https://localhost:8080/"
        },
        "id": "YqhafyUc7hxw",
        "outputId": "f1f0c66a-d963-4857-86ae-7613272401b5"
      },
      "execution_count": 8,
      "outputs": [
        {
          "output_type": "stream",
          "name": "stdout",
          "text": [
            "Requirement already satisfied: requests in /usr/local/lib/python3.11/dist-packages (2.32.3)\n",
            "Requirement already satisfied: pillow in /usr/local/lib/python3.11/dist-packages (11.1.0)\n",
            "Collecting mercantile\n",
            "  Downloading mercantile-1.2.1-py3-none-any.whl.metadata (4.8 kB)\n",
            "Requirement already satisfied: charset-normalizer<4,>=2 in /usr/local/lib/python3.11/dist-packages (from requests) (3.4.1)\n",
            "Requirement already satisfied: idna<4,>=2.5 in /usr/local/lib/python3.11/dist-packages (from requests) (3.10)\n",
            "Requirement already satisfied: urllib3<3,>=1.21.1 in /usr/local/lib/python3.11/dist-packages (from requests) (2.3.0)\n",
            "Requirement already satisfied: certifi>=2017.4.17 in /usr/local/lib/python3.11/dist-packages (from requests) (2025.1.31)\n",
            "Requirement already satisfied: click>=3.0 in /usr/local/lib/python3.11/dist-packages (from mercantile) (8.1.8)\n",
            "Downloading mercantile-1.2.1-py3-none-any.whl (14 kB)\n",
            "Installing collected packages: mercantile\n",
            "Successfully installed mercantile-1.2.1\n"
          ]
        }
      ]
    },
    {
      "cell_type": "markdown",
      "source": [
        "# **Instructions:**\n",
        "Replace:\n",
        "1. YOUR_STYLE_URL with your Mapbox style URL identifier.\n",
        "2. YOUR_ACCESS_TOKEN with your Mapbox access token.\n",
        "3. (LATITUDE_LOWER_LEFT, LONGITUDE_LOWER_LEFT) and (LATITUDE_UPPER_RIGHT,  LONGITUDE_UPPER_RIGHT) with your desired coordinates.\n",
        "5. YOUR_ZOOM_LEVEL with an appropriate zoom level.\n",
        "\n",
        "# **Boundary Reference**\n",
        "**Cairns Boundary:**\n",
        "\n",
        "lower_left = (-17.1077, 145.669000)\n",
        "\n",
        "upper_right = (-16.75, 145.80)\n",
        "\n",
        "**Townsville Boundary**"
      ],
      "metadata": {
        "id": "PhKg2iHs95_f"
      }
    },
    {
      "cell_type": "code",
      "execution_count": 19,
      "metadata": {
        "colab": {
          "base_uri": "https://localhost:8080/"
        },
        "id": "obsd3-Ui2Jqj",
        "outputId": "5493664e-9063-4c58-a526-3dd0408197ef"
      },
      "outputs": [
        {
          "output_type": "stream",
          "name": "stdout",
          "text": [
            "High-resolution map saved successfully.\n"
          ]
        }
      ],
      "source": [
        "import requests\n",
        "import mercantile\n",
        "from PIL import Image\n",
        "from io import BytesIO\n",
        "import math\n",
        "\n",
        "# Mapbox parameters\n",
        "style_url = 'runawaycow/cm6m6zalu00cg01sq1m6eahqr'\n",
        "access_token = 'pk.eyJ1IjoicnVuYXdheWNvdyIsImEiOiJja21hemUzOWgxZGoxMnZudXF2NmsxMmZoIn0.fFx2sslVYu1v-YfuSdjrKg'\n",
        "\n",
        "# Define bounding box coordinates\n",
        "lower_left = (-17.1077, 145.669000)\n",
        "upper_right = (-16.75, 145.80)\n",
        "\n",
        "# Calculate the center coordinates\n",
        "center_lat = (lower_left[0] + upper_right[0]) / 2\n",
        "center_lon = (lower_left[1] + upper_right[1]) / 2\n",
        "\n",
        "# Set zoom level (adjust as needed)\n",
        "zoom = 12\n",
        "\n",
        "# Tile size (Mapbox standard)\n",
        "tile_size = 512  # Mapbox tiles are typically 512x512 px\n",
        "\n",
        "# Get tiles covering bounding box\n",
        "tiles = list(mercantile.tiles(\n",
        "    west=lower_left[1], south=lower_left[0],\n",
        "    east=upper_right[1], north=upper_right[0],\n",
        "    zooms=zoom\n",
        "))\n",
        "\n",
        "# Determine stitched image size\n",
        "min_x = min(tile.x for tile in tiles)\n",
        "max_x = max(tile.x for tile in tiles)\n",
        "min_y = min(tile.y for tile in tiles)\n",
        "max_y = max(tile.y for tile in tiles)\n",
        "\n",
        "width = (max_x - min_x + 1) * tile_size\n",
        "height = (max_y - min_y + 1) * tile_size\n",
        "\n",
        "final_image = Image.new('RGB', (width, height))\n",
        "\n",
        "# Fetch and stitch tiles\n",
        "for tile in tiles:\n",
        "    tile_url = (\n",
        "        f\"https://api.mapbox.com/styles/v1/{style_url}/tiles/{tile_size}/{tile.z}/{tile.x}/{tile.y}\"\n",
        "        f\"?access_token={access_token}\"\n",
        "    )\n",
        "\n",
        "    response = requests.get(tile_url)\n",
        "    if response.status_code == 200:\n",
        "        tile_img = Image.open(BytesIO(response.content))\n",
        "        tile_img.show(title=f'Tile {tile.z}/{tile.x}/{tile.y}')  # Display for debugging\n",
        "        x_offset = (tile.x - min_x) * tile_size\n",
        "        y_offset = (tile.y - min_y) * tile_size\n",
        "        final_image.paste(tile_img, (x_offset, y_offset))\n",
        "    else:\n",
        "        print(f\"Failed to retrieve tile {tile.z}/{tile.x}/{tile.y}: {response.text}\")\n",
        "\n",
        "# Save final image\n",
        "final_image.save('high_resolution_map.jpg')\n",
        "print(\"High-resolution map saved successfully.\")\n",
        "\n"
      ]
    },
    {
      "cell_type": "code",
      "source": [],
      "metadata": {
        "id": "HYLVzc263NtL"
      },
      "execution_count": null,
      "outputs": []
    }
  ]
}